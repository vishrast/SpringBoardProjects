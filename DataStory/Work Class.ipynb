{
 "cells": [
  {
   "cell_type": "markdown",
   "id": "e440d75a",
   "metadata": {},
   "source": [
    "### Importing libraries"
   ]
  },
  {
   "cell_type": "code",
   "execution_count": 1,
   "id": "f5e74c69",
   "metadata": {},
   "outputs": [],
   "source": [
    "\n",
    "#Import pandas, matplotlib.pyplot, and seaborn in the correct lines below\n",
    "import pandas as pd\n",
    "import matplotlib.pyplot as plt\n",
    "import seaborn as sns\n",
    "import os"
   ]
  },
  {
   "cell_type": "markdown",
   "id": "36818238",
   "metadata": {},
   "source": [
    "### Loading  the adult income dataset"
   ]
  },
  {
   "cell_type": "code",
   "execution_count": 2,
   "id": "97edac8b",
   "metadata": {},
   "outputs": [],
   "source": [
    "df=pd.read_csv(\"adult income.csv\")"
   ]
  },
  {
   "cell_type": "markdown",
   "id": "c7440afd",
   "metadata": {},
   "source": [
    "### Checking the dataframe for datatype"
   ]
  },
  {
   "cell_type": "code",
   "execution_count": 3,
   "id": "2790002e",
   "metadata": {},
   "outputs": [
    {
     "name": "stdout",
     "output_type": "stream",
     "text": [
      "<class 'pandas.core.frame.DataFrame'>\n",
      "RangeIndex: 48842 entries, 0 to 48841\n",
      "Data columns (total 15 columns):\n",
      " #   Column           Non-Null Count  Dtype \n",
      "---  ------           --------------  ----- \n",
      " 0   age              48842 non-null  int64 \n",
      " 1   workclass        48842 non-null  object\n",
      " 2   fnlwgt           48842 non-null  int64 \n",
      " 3   education        48842 non-null  object\n",
      " 4   educational-num  48842 non-null  int64 \n",
      " 5   marital-status   48842 non-null  object\n",
      " 6   occupation       48842 non-null  object\n",
      " 7   relationship     48842 non-null  object\n",
      " 8   race             48842 non-null  object\n",
      " 9   gender           48842 non-null  object\n",
      " 10  capital-gain     48842 non-null  int64 \n",
      " 11  capital-loss     48842 non-null  int64 \n",
      " 12  hours-per-week   48842 non-null  int64 \n",
      " 13  native-country   48842 non-null  object\n",
      " 14  income           48842 non-null  object\n",
      "dtypes: int64(6), object(9)\n",
      "memory usage: 5.6+ MB\n"
     ]
    }
   ],
   "source": [
    "df.info()"
   ]
  },
  {
   "cell_type": "markdown",
   "id": "6197ed23",
   "metadata": {},
   "source": [
    "###  Checking for missing values"
   ]
  },
  {
   "cell_type": "code",
   "execution_count": 4,
   "id": "e6953173",
   "metadata": {},
   "outputs": [
    {
     "data": {
      "text/plain": [
       "age                0\n",
       "workclass          0\n",
       "fnlwgt             0\n",
       "education          0\n",
       "educational-num    0\n",
       "marital-status     0\n",
       "occupation         0\n",
       "relationship       0\n",
       "race               0\n",
       "gender             0\n",
       "capital-gain       0\n",
       "capital-loss       0\n",
       "hours-per-week     0\n",
       "native-country     0\n",
       "income             0\n",
       "dtype: int64"
      ]
     },
     "execution_count": 4,
     "metadata": {},
     "output_type": "execute_result"
    }
   ],
   "source": [
    "df.isna().sum()"
   ]
  },
  {
   "cell_type": "markdown",
   "id": "1aa20b72",
   "metadata": {},
   "source": [
    "### Checking the first few rows"
   ]
  },
  {
   "cell_type": "code",
   "execution_count": 5,
   "id": "49f41bb0",
   "metadata": {},
   "outputs": [
    {
     "data": {
      "text/html": [
       "<div>\n",
       "<style scoped>\n",
       "    .dataframe tbody tr th:only-of-type {\n",
       "        vertical-align: middle;\n",
       "    }\n",
       "\n",
       "    .dataframe tbody tr th {\n",
       "        vertical-align: top;\n",
       "    }\n",
       "\n",
       "    .dataframe thead th {\n",
       "        text-align: right;\n",
       "    }\n",
       "</style>\n",
       "<table border=\"1\" class=\"dataframe\">\n",
       "  <thead>\n",
       "    <tr style=\"text-align: right;\">\n",
       "      <th></th>\n",
       "      <th>0</th>\n",
       "      <th>1</th>\n",
       "      <th>2</th>\n",
       "      <th>3</th>\n",
       "      <th>4</th>\n",
       "    </tr>\n",
       "  </thead>\n",
       "  <tbody>\n",
       "    <tr>\n",
       "      <th>age</th>\n",
       "      <td>25</td>\n",
       "      <td>38</td>\n",
       "      <td>28</td>\n",
       "      <td>44</td>\n",
       "      <td>18</td>\n",
       "    </tr>\n",
       "    <tr>\n",
       "      <th>workclass</th>\n",
       "      <td>Private</td>\n",
       "      <td>Private</td>\n",
       "      <td>Local-gov</td>\n",
       "      <td>Private</td>\n",
       "      <td>?</td>\n",
       "    </tr>\n",
       "    <tr>\n",
       "      <th>fnlwgt</th>\n",
       "      <td>226802</td>\n",
       "      <td>89814</td>\n",
       "      <td>336951</td>\n",
       "      <td>160323</td>\n",
       "      <td>103497</td>\n",
       "    </tr>\n",
       "    <tr>\n",
       "      <th>education</th>\n",
       "      <td>11th</td>\n",
       "      <td>HS-grad</td>\n",
       "      <td>Assoc-acdm</td>\n",
       "      <td>Some-college</td>\n",
       "      <td>Some-college</td>\n",
       "    </tr>\n",
       "    <tr>\n",
       "      <th>educational-num</th>\n",
       "      <td>7</td>\n",
       "      <td>9</td>\n",
       "      <td>12</td>\n",
       "      <td>10</td>\n",
       "      <td>10</td>\n",
       "    </tr>\n",
       "    <tr>\n",
       "      <th>marital-status</th>\n",
       "      <td>Never-married</td>\n",
       "      <td>Married-civ-spouse</td>\n",
       "      <td>Married-civ-spouse</td>\n",
       "      <td>Married-civ-spouse</td>\n",
       "      <td>Never-married</td>\n",
       "    </tr>\n",
       "    <tr>\n",
       "      <th>occupation</th>\n",
       "      <td>Machine-op-inspct</td>\n",
       "      <td>Farming-fishing</td>\n",
       "      <td>Protective-serv</td>\n",
       "      <td>Machine-op-inspct</td>\n",
       "      <td>?</td>\n",
       "    </tr>\n",
       "    <tr>\n",
       "      <th>relationship</th>\n",
       "      <td>Own-child</td>\n",
       "      <td>Husband</td>\n",
       "      <td>Husband</td>\n",
       "      <td>Husband</td>\n",
       "      <td>Own-child</td>\n",
       "    </tr>\n",
       "    <tr>\n",
       "      <th>race</th>\n",
       "      <td>Black</td>\n",
       "      <td>White</td>\n",
       "      <td>White</td>\n",
       "      <td>Black</td>\n",
       "      <td>White</td>\n",
       "    </tr>\n",
       "    <tr>\n",
       "      <th>gender</th>\n",
       "      <td>Male</td>\n",
       "      <td>Male</td>\n",
       "      <td>Male</td>\n",
       "      <td>Male</td>\n",
       "      <td>Female</td>\n",
       "    </tr>\n",
       "    <tr>\n",
       "      <th>capital-gain</th>\n",
       "      <td>0</td>\n",
       "      <td>0</td>\n",
       "      <td>0</td>\n",
       "      <td>7688</td>\n",
       "      <td>0</td>\n",
       "    </tr>\n",
       "    <tr>\n",
       "      <th>capital-loss</th>\n",
       "      <td>0</td>\n",
       "      <td>0</td>\n",
       "      <td>0</td>\n",
       "      <td>0</td>\n",
       "      <td>0</td>\n",
       "    </tr>\n",
       "    <tr>\n",
       "      <th>hours-per-week</th>\n",
       "      <td>40</td>\n",
       "      <td>50</td>\n",
       "      <td>40</td>\n",
       "      <td>40</td>\n",
       "      <td>30</td>\n",
       "    </tr>\n",
       "    <tr>\n",
       "      <th>native-country</th>\n",
       "      <td>United-States</td>\n",
       "      <td>United-States</td>\n",
       "      <td>United-States</td>\n",
       "      <td>United-States</td>\n",
       "      <td>United-States</td>\n",
       "    </tr>\n",
       "    <tr>\n",
       "      <th>income</th>\n",
       "      <td>&lt;=50K</td>\n",
       "      <td>&lt;=50K</td>\n",
       "      <td>&gt;50K</td>\n",
       "      <td>&gt;50K</td>\n",
       "      <td>&lt;=50K</td>\n",
       "    </tr>\n",
       "  </tbody>\n",
       "</table>\n",
       "</div>"
      ],
      "text/plain": [
       "                                 0                   1                   2  \\\n",
       "age                             25                  38                  28   \n",
       "workclass                  Private             Private           Local-gov   \n",
       "fnlwgt                      226802               89814              336951   \n",
       "education                     11th             HS-grad          Assoc-acdm   \n",
       "educational-num                  7                   9                  12   \n",
       "marital-status       Never-married  Married-civ-spouse  Married-civ-spouse   \n",
       "occupation       Machine-op-inspct     Farming-fishing     Protective-serv   \n",
       "relationship             Own-child             Husband             Husband   \n",
       "race                         Black               White               White   \n",
       "gender                        Male                Male                Male   \n",
       "capital-gain                     0                   0                   0   \n",
       "capital-loss                     0                   0                   0   \n",
       "hours-per-week                  40                  50                  40   \n",
       "native-country       United-States       United-States       United-States   \n",
       "income                       <=50K               <=50K                >50K   \n",
       "\n",
       "                                  3              4  \n",
       "age                              44             18  \n",
       "workclass                   Private              ?  \n",
       "fnlwgt                       160323         103497  \n",
       "education              Some-college   Some-college  \n",
       "educational-num                  10             10  \n",
       "marital-status   Married-civ-spouse  Never-married  \n",
       "occupation        Machine-op-inspct              ?  \n",
       "relationship                Husband      Own-child  \n",
       "race                          Black          White  \n",
       "gender                         Male         Female  \n",
       "capital-gain                   7688              0  \n",
       "capital-loss                      0              0  \n",
       "hours-per-week                   40             30  \n",
       "native-country        United-States  United-States  \n",
       "income                         >50K          <=50K  "
      ]
     },
     "execution_count": 5,
     "metadata": {},
     "output_type": "execute_result"
    }
   ],
   "source": [
    "df.head().T"
   ]
  },
  {
   "cell_type": "markdown",
   "id": "052c8eee",
   "metadata": {},
   "source": [
    "####  We saw occupation listed as ?"
   ]
  },
  {
   "cell_type": "markdown",
   "id": "4a2c6f5a",
   "metadata": {},
   "source": [
    "### Checking numeric columns"
   ]
  },
  {
   "cell_type": "code",
   "execution_count": 6,
   "id": "e761ab16",
   "metadata": {},
   "outputs": [
    {
     "data": {
      "text/html": [
       "<div>\n",
       "<style scoped>\n",
       "    .dataframe tbody tr th:only-of-type {\n",
       "        vertical-align: middle;\n",
       "    }\n",
       "\n",
       "    .dataframe tbody tr th {\n",
       "        vertical-align: top;\n",
       "    }\n",
       "\n",
       "    .dataframe thead th {\n",
       "        text-align: right;\n",
       "    }\n",
       "</style>\n",
       "<table border=\"1\" class=\"dataframe\">\n",
       "  <thead>\n",
       "    <tr style=\"text-align: right;\">\n",
       "      <th></th>\n",
       "      <th>age</th>\n",
       "      <th>fnlwgt</th>\n",
       "      <th>educational-num</th>\n",
       "      <th>capital-gain</th>\n",
       "      <th>capital-loss</th>\n",
       "      <th>hours-per-week</th>\n",
       "    </tr>\n",
       "  </thead>\n",
       "  <tbody>\n",
       "    <tr>\n",
       "      <th>count</th>\n",
       "      <td>48842.000000</td>\n",
       "      <td>4.884200e+04</td>\n",
       "      <td>48842.000000</td>\n",
       "      <td>48842.000000</td>\n",
       "      <td>48842.000000</td>\n",
       "      <td>48842.000000</td>\n",
       "    </tr>\n",
       "    <tr>\n",
       "      <th>mean</th>\n",
       "      <td>38.643585</td>\n",
       "      <td>1.896641e+05</td>\n",
       "      <td>10.078089</td>\n",
       "      <td>1079.067626</td>\n",
       "      <td>87.502314</td>\n",
       "      <td>40.422382</td>\n",
       "    </tr>\n",
       "    <tr>\n",
       "      <th>std</th>\n",
       "      <td>13.710510</td>\n",
       "      <td>1.056040e+05</td>\n",
       "      <td>2.570973</td>\n",
       "      <td>7452.019058</td>\n",
       "      <td>403.004552</td>\n",
       "      <td>12.391444</td>\n",
       "    </tr>\n",
       "    <tr>\n",
       "      <th>min</th>\n",
       "      <td>17.000000</td>\n",
       "      <td>1.228500e+04</td>\n",
       "      <td>1.000000</td>\n",
       "      <td>0.000000</td>\n",
       "      <td>0.000000</td>\n",
       "      <td>1.000000</td>\n",
       "    </tr>\n",
       "    <tr>\n",
       "      <th>25%</th>\n",
       "      <td>28.000000</td>\n",
       "      <td>1.175505e+05</td>\n",
       "      <td>9.000000</td>\n",
       "      <td>0.000000</td>\n",
       "      <td>0.000000</td>\n",
       "      <td>40.000000</td>\n",
       "    </tr>\n",
       "    <tr>\n",
       "      <th>50%</th>\n",
       "      <td>37.000000</td>\n",
       "      <td>1.781445e+05</td>\n",
       "      <td>10.000000</td>\n",
       "      <td>0.000000</td>\n",
       "      <td>0.000000</td>\n",
       "      <td>40.000000</td>\n",
       "    </tr>\n",
       "    <tr>\n",
       "      <th>75%</th>\n",
       "      <td>48.000000</td>\n",
       "      <td>2.376420e+05</td>\n",
       "      <td>12.000000</td>\n",
       "      <td>0.000000</td>\n",
       "      <td>0.000000</td>\n",
       "      <td>45.000000</td>\n",
       "    </tr>\n",
       "    <tr>\n",
       "      <th>max</th>\n",
       "      <td>90.000000</td>\n",
       "      <td>1.490400e+06</td>\n",
       "      <td>16.000000</td>\n",
       "      <td>99999.000000</td>\n",
       "      <td>4356.000000</td>\n",
       "      <td>99.000000</td>\n",
       "    </tr>\n",
       "  </tbody>\n",
       "</table>\n",
       "</div>"
      ],
      "text/plain": [
       "                age        fnlwgt  educational-num  capital-gain  \\\n",
       "count  48842.000000  4.884200e+04     48842.000000  48842.000000   \n",
       "mean      38.643585  1.896641e+05        10.078089   1079.067626   \n",
       "std       13.710510  1.056040e+05         2.570973   7452.019058   \n",
       "min       17.000000  1.228500e+04         1.000000      0.000000   \n",
       "25%       28.000000  1.175505e+05         9.000000      0.000000   \n",
       "50%       37.000000  1.781445e+05        10.000000      0.000000   \n",
       "75%       48.000000  2.376420e+05        12.000000      0.000000   \n",
       "max       90.000000  1.490400e+06        16.000000  99999.000000   \n",
       "\n",
       "       capital-loss  hours-per-week  \n",
       "count  48842.000000    48842.000000  \n",
       "mean      87.502314       40.422382  \n",
       "std      403.004552       12.391444  \n",
       "min        0.000000        1.000000  \n",
       "25%        0.000000       40.000000  \n",
       "50%        0.000000       40.000000  \n",
       "75%        0.000000       45.000000  \n",
       "max     4356.000000       99.000000  "
      ]
     },
     "execution_count": 6,
     "metadata": {},
     "output_type": "execute_result"
    }
   ],
   "source": [
    "df.describe()"
   ]
  },
  {
   "cell_type": "markdown",
   "id": "38692160",
   "metadata": {},
   "source": [
    "### Checking for number of unique values\n",
    "    "
   ]
  },
  {
   "cell_type": "code",
   "execution_count": 7,
   "id": "98959763",
   "metadata": {},
   "outputs": [
    {
     "data": {
      "text/plain": [
       "age                   74\n",
       "workclass              9\n",
       "fnlwgt             28523\n",
       "education             16\n",
       "educational-num       16\n",
       "marital-status         7\n",
       "occupation            15\n",
       "relationship           6\n",
       "race                   5\n",
       "gender                 2\n",
       "capital-gain         123\n",
       "capital-loss          99\n",
       "hours-per-week        96\n",
       "native-country        42\n",
       "income                 2\n",
       "dtype: int64"
      ]
     },
     "execution_count": 7,
     "metadata": {},
     "output_type": "execute_result"
    }
   ],
   "source": [
    "df.nunique()"
   ]
  },
  {
   "cell_type": "markdown",
   "id": "dd206e4d",
   "metadata": {},
   "source": [
    "### Histogram of columns"
   ]
  },
  {
   "cell_type": "code",
   "execution_count": 8,
   "id": "fc2cb07a",
   "metadata": {},
   "outputs": [
    {
     "data": {
      "image/png": "[encoded data removed]",
      "text/plain": [
       "<Figure size 1080x720 with 6 Axes>"
      ]
     },
     "metadata": {
      "needs_background": "light"
     },
     "output_type": "display_data"
    }
   ],
   "source": [
    "df.hist(figsize=(15,10))\n",
    "plt.subplots_adjust(hspace=0.5);"
   ]
  },
  {
   "cell_type": "code",
   "execution_count": 9,
   "id": "cf13f2d9",
   "metadata": {},
   "outputs": [
    {
     "name": "stdout",
     "output_type": "stream",
     "text": [
      "\u001b[1mage \n",
      " 36    0.027599\n",
      "35    0.027374\n",
      "33    0.027333\n",
      "23    0.027210\n",
      "31    0.027128\n",
      "        ...   \n",
      "88    0.000123\n",
      "85    0.000102\n",
      "87    0.000061\n",
      "89    0.000041\n",
      "86    0.000020\n",
      "Name: age, Length: 74, dtype: float64\n",
      "\u001b[1mworkclass \n",
      " Private             0.694198\n",
      "Self-emp-not-inc    0.079071\n",
      "Local-gov           0.064207\n",
      "?                   0.057307\n",
      "State-gov           0.040559\n",
      "Self-emp-inc        0.034704\n",
      "Federal-gov         0.029319\n",
      "Without-pay         0.000430\n",
      "Never-worked        0.000205\n",
      "Name: workclass, dtype: float64\n",
      "\u001b[1mfnlwgt \n",
      " 203488    0.000430\n",
      "190290    0.000389\n",
      "120277    0.000389\n",
      "125892    0.000369\n",
      "126569    0.000369\n",
      "            ...   \n",
      "188488    0.000020\n",
      "285290    0.000020\n",
      "293579    0.000020\n",
      "114874    0.000020\n",
      "257302    0.000020\n",
      "Name: fnlwgt, Length: 28523, dtype: float64\n",
      "\u001b[1meducation \n",
      " HS-grad         0.323164\n",
      "Some-college    0.222718\n",
      "Bachelors       0.164305\n",
      "Masters         0.054400\n",
      "Assoc-voc       0.042197\n",
      "11th            0.037099\n",
      "Assoc-acdm      0.032779\n",
      "10th            0.028439\n",
      "7th-8th         0.019553\n",
      "Prof-school     0.017075\n",
      "9th             0.015478\n",
      "12th            0.013452\n",
      "Doctorate       0.012162\n",
      "5th-6th         0.010421\n",
      "1st-4th         0.005057\n",
      "Preschool       0.001699\n",
      "Name: education, dtype: float64\n",
      "\u001b[1meducational-num \n",
      " 9     0.323164\n",
      "10    0.222718\n",
      "13    0.164305\n",
      "14    0.054400\n",
      "11    0.042197\n",
      "7     0.037099\n",
      "12    0.032779\n",
      "6     0.028439\n",
      "4     0.019553\n",
      "15    0.017075\n",
      "5     0.015478\n",
      "8     0.013452\n",
      "16    0.012162\n",
      "3     0.010421\n",
      "2     0.005057\n",
      "1     0.001699\n",
      "Name: educational-num, dtype: float64\n",
      "\u001b[1mmarital-status \n",
      " Married-civ-spouse       0.458192\n",
      "Never-married            0.329982\n",
      "Divorced                 0.135805\n",
      "Separated                0.031325\n",
      "Widowed                  0.031080\n",
      "Married-spouse-absent    0.012858\n",
      "Married-AF-spouse        0.000758\n",
      "Name: marital-status, dtype: float64\n",
      "\u001b[1moccupation \n",
      " Prof-specialty       0.126367\n",
      "Craft-repair         0.125138\n",
      "Exec-managerial      0.124606\n",
      "Adm-clerical         0.114881\n",
      "Sales                0.112690\n",
      "Other-service        0.100794\n",
      "Machine-op-inspct    0.061873\n",
      "?                    0.057512\n",
      "Transport-moving     0.048217\n",
      "Handlers-cleaners    0.042423\n",
      "Farming-fishing      0.030507\n",
      "Tech-support         0.029606\n",
      "Protective-serv      0.020126\n",
      "Priv-house-serv      0.004955\n",
      "Armed-Forces         0.000307\n",
      "Name: occupation, dtype: float64\n",
      "\u001b[1mrelationship \n",
      " Husband           0.403669\n",
      "Not-in-family     0.257627\n",
      "Own-child         0.155215\n",
      "Unmarried         0.104930\n",
      "Wife              0.047725\n",
      "Other-relative    0.030834\n",
      "Name: relationship, dtype: float64\n",
      "\u001b[1mrace \n",
      " White                 0.855043\n",
      "Black                 0.095922\n",
      "Asian-Pac-Islander    0.031100\n",
      "Amer-Indian-Eskimo    0.009623\n",
      "Other                 0.008313\n",
      "Name: race, dtype: float64\n",
      "\u001b[1mgender \n",
      " Male      0.668482\n",
      "Female    0.331518\n",
      "Name: gender, dtype: float64\n",
      "\u001b[1mcapital-gain \n",
      " 0        0.917387\n",
      "15024    0.010503\n",
      "7688     0.008394\n",
      "7298     0.007453\n",
      "99999    0.004996\n",
      "           ...   \n",
      "1111     0.000020\n",
      "7262     0.000020\n",
      "22040    0.000020\n",
      "1639     0.000020\n",
      "2387     0.000020\n",
      "Name: capital-gain, Length: 123, dtype: float64\n",
      "\u001b[1mcapital-loss \n",
      " 0       0.953278\n",
      "1902    0.006224\n",
      "1977    0.005180\n",
      "1887    0.004770\n",
      "2415    0.001474\n",
      "          ...   \n",
      "2465    0.000020\n",
      "2080    0.000020\n",
      "155     0.000020\n",
      "1911    0.000020\n",
      "2201    0.000020\n",
      "Name: capital-loss, Length: 99, dtype: float64\n",
      "\u001b[1mhours-per-week \n",
      " 40    0.466873\n",
      "50    0.086933\n",
      "45    0.055628\n",
      "60    0.044572\n",
      "35    0.039658\n",
      "        ...   \n",
      "69    0.000020\n",
      "87    0.000020\n",
      "94    0.000020\n",
      "82    0.000020\n",
      "79    0.000020\n",
      "Name: hours-per-week, Length: 96, dtype: float64\n",
      "\u001b[1mnative-country \n",
      " United-States                 0.897424\n",
      "Mexico                        0.019471\n",
      "?                             0.017546\n",
      "Philippines                   0.006040\n",
      "Germany                       0.004218\n",
      "Puerto-Rico                   0.003767\n",
      "Canada                        0.003726\n",
      "El-Salvador                   0.003173\n",
      "India                         0.003092\n",
      "Cuba                          0.002825\n",
      "England                       0.002600\n",
      "China                         0.002498\n",
      "South                         0.002355\n",
      "Jamaica                       0.002170\n",
      "Italy                         0.002150\n",
      "Dominican-Republic            0.002109\n",
      "Japan                         0.001884\n",
      "Guatemala                     0.001802\n",
      "Poland                        0.001781\n",
      "Vietnam                       0.001761\n",
      "Columbia                      0.001740\n",
      "Haiti                         0.001536\n",
      "Portugal                      0.001372\n",
      "Taiwan                        0.001331\n",
      "Iran                          0.001208\n",
      "Greece                        0.001003\n",
      "Nicaragua                     0.001003\n",
      "Peru                          0.000942\n",
      "Ecuador                       0.000921\n",
      "France                        0.000778\n",
      "Ireland                       0.000758\n",
      "Hong                          0.000614\n",
      "Thailand                      0.000614\n",
      "Cambodia                      0.000573\n",
      "Trinadad&Tobago               0.000553\n",
      "Laos                          0.000471\n",
      "Yugoslavia                    0.000471\n",
      "Outlying-US(Guam-USVI-etc)    0.000471\n",
      "Scotland                      0.000430\n",
      "Honduras                      0.000409\n",
      "Hungary                       0.000389\n",
      "Holand-Netherlands            0.000020\n",
      "Name: native-country, dtype: float64\n",
      "\u001b[1mincome \n",
      " <=50K    0.760718\n",
      ">50K     0.239282\n",
      "Name: income, dtype: float64\n"
     ]
    }
   ],
   "source": [
    "\n",
    "for col in df.columns:\n",
    "    item_counts = df[col].value_counts(normalize=True)\n",
    "    print('\\033[1m'+ col,\"\\n\",item_counts)"
   ]
  },
  {
   "cell_type": "markdown",
   "id": "6f473892",
   "metadata": {},
   "source": [
    "###  \n",
    "1. Work Class has 5.7% values as ?\n",
    "2. Occupation has 5.7% values as ?\n",
    "3. Native Country has 1.7% values as ?\n",
    "      "
   ]
  },
  {
   "cell_type": "markdown",
   "id": "18ab5969",
   "metadata": {},
   "source": [
    "### Imputing \"?\" with most frequent values in the dataframe using Simple Imputer"
   ]
  },
  {
   "cell_type": "code",
   "execution_count": 10,
   "id": "21517150",
   "metadata": {},
   "outputs": [],
   "source": [
    "columns=list(df.columns)\n",
    "from sklearn.impute import SimpleImputer\n",
    "SimpleImputer=SimpleImputer(missing_values=\"?\",strategy='most_frequent')\n",
    "result_most_frequent_imputer =SimpleImputer.fit_transform(df)\n",
    "df1=pd.DataFrame(result_most_frequent_imputer, columns=columns)\n",
    "\n",
    "   "
   ]
  },
  {
   "cell_type": "code",
   "execution_count": 11,
   "id": "dc39ea89",
   "metadata": {},
   "outputs": [
    {
     "data": {
      "text/html": [
       "<div>\n",
       "<style scoped>\n",
       "    .dataframe tbody tr th:only-of-type {\n",
       "        vertical-align: middle;\n",
       "    }\n",
       "\n",
       "    .dataframe tbody tr th {\n",
       "        vertical-align: top;\n",
       "    }\n",
       "\n",
       "    .dataframe thead th {\n",
       "        text-align: right;\n",
       "    }\n",
       "</style>\n",
       "<table border=\"1\" class=\"dataframe\">\n",
       "  <thead>\n",
       "    <tr style=\"text-align: right;\">\n",
       "      <th></th>\n",
       "      <th>age</th>\n",
       "      <th>workclass</th>\n",
       "      <th>fnlwgt</th>\n",
       "      <th>education</th>\n",
       "      <th>educational-num</th>\n",
       "      <th>marital-status</th>\n",
       "      <th>occupation</th>\n",
       "      <th>relationship</th>\n",
       "      <th>race</th>\n",
       "      <th>gender</th>\n",
       "      <th>capital-gain</th>\n",
       "      <th>capital-loss</th>\n",
       "      <th>hours-per-week</th>\n",
       "      <th>native-country</th>\n",
       "      <th>income</th>\n",
       "    </tr>\n",
       "  </thead>\n",
       "  <tbody>\n",
       "    <tr>\n",
       "      <th>0</th>\n",
       "      <td>25</td>\n",
       "      <td>Private</td>\n",
       "      <td>226802</td>\n",
       "      <td>11th</td>\n",
       "      <td>7</td>\n",
       "      <td>Never-married</td>\n",
       "      <td>Machine-op-inspct</td>\n",
       "      <td>Own-child</td>\n",
       "      <td>Black</td>\n",
       "      <td>Male</td>\n",
       "      <td>0</td>\n",
       "      <td>0</td>\n",
       "      <td>40</td>\n",
       "      <td>United-States</td>\n",
       "      <td>&lt;=50K</td>\n",
       "    </tr>\n",
       "    <tr>\n",
       "      <th>1</th>\n",
       "      <td>38</td>\n",
       "      <td>Private</td>\n",
       "      <td>89814</td>\n",
       "      <td>HS-grad</td>\n",
       "      <td>9</td>\n",
       "      <td>Married-civ-spouse</td>\n",
       "      <td>Farming-fishing</td>\n",
       "      <td>Husband</td>\n",
       "      <td>White</td>\n",
       "      <td>Male</td>\n",
       "      <td>0</td>\n",
       "      <td>0</td>\n",
       "      <td>50</td>\n",
       "      <td>United-States</td>\n",
       "      <td>&lt;=50K</td>\n",
       "    </tr>\n",
       "    <tr>\n",
       "      <th>2</th>\n",
       "      <td>28</td>\n",
       "      <td>Local-gov</td>\n",
       "      <td>336951</td>\n",
       "      <td>Assoc-acdm</td>\n",
       "      <td>12</td>\n",
       "      <td>Married-civ-spouse</td>\n",
       "      <td>Protective-serv</td>\n",
       "      <td>Husband</td>\n",
       "      <td>White</td>\n",
       "      <td>Male</td>\n",
       "      <td>0</td>\n",
       "      <td>0</td>\n",
       "      <td>40</td>\n",
       "      <td>United-States</td>\n",
       "      <td>&gt;50K</td>\n",
       "    </tr>\n",
       "    <tr>\n",
       "      <th>3</th>\n",
       "      <td>44</td>\n",
       "      <td>Private</td>\n",
       "      <td>160323</td>\n",
       "      <td>Some-college</td>\n",
       "      <td>10</td>\n",
       "      <td>Married-civ-spouse</td>\n",
       "      <td>Machine-op-inspct</td>\n",
       "      <td>Husband</td>\n",
       "      <td>Black</td>\n",
       "      <td>Male</td>\n",
       "      <td>7688</td>\n",
       "      <td>0</td>\n",
       "      <td>40</td>\n",
       "      <td>United-States</td>\n",
       "      <td>&gt;50K</td>\n",
       "    </tr>\n",
       "    <tr>\n",
       "      <th>4</th>\n",
       "      <td>18</td>\n",
       "      <td>Private</td>\n",
       "      <td>103497</td>\n",
       "      <td>Some-college</td>\n",
       "      <td>10</td>\n",
       "      <td>Never-married</td>\n",
       "      <td>Prof-specialty</td>\n",
       "      <td>Own-child</td>\n",
       "      <td>White</td>\n",
       "      <td>Female</td>\n",
       "      <td>0</td>\n",
       "      <td>0</td>\n",
       "      <td>30</td>\n",
       "      <td>United-States</td>\n",
       "      <td>&lt;=50K</td>\n",
       "    </tr>\n",
       "  </tbody>\n",
       "</table>\n",
       "</div>"
      ],
      "text/plain": [
       "  age  workclass  fnlwgt     education educational-num      marital-status  \\\n",
       "0  25    Private  226802          11th               7       Never-married   \n",
       "1  38    Private   89814       HS-grad               9  Married-civ-spouse   \n",
       "2  28  Local-gov  336951    Assoc-acdm              12  Married-civ-spouse   \n",
       "3  44    Private  160323  Some-college              10  Married-civ-spouse   \n",
       "4  18    Private  103497  Some-college              10       Never-married   \n",
       "\n",
       "          occupation relationship   race  gender capital-gain capital-loss  \\\n",
       "0  Machine-op-inspct    Own-child  Black    Male            0            0   \n",
       "1    Farming-fishing      Husband  White    Male            0            0   \n",
       "2    Protective-serv      Husband  White    Male            0            0   \n",
       "3  Machine-op-inspct      Husband  Black    Male         7688            0   \n",
       "4     Prof-specialty    Own-child  White  Female            0            0   \n",
       "\n",
       "  hours-per-week native-country income  \n",
       "0             40  United-States  <=50K  \n",
       "1             50  United-States  <=50K  \n",
       "2             40  United-States   >50K  \n",
       "3             40  United-States   >50K  \n",
       "4             30  United-States  <=50K  "
      ]
     },
     "execution_count": 11,
     "metadata": {},
     "output_type": "execute_result"
    }
   ],
   "source": [
    "df1.head()"
   ]
  },
  {
   "cell_type": "code",
   "execution_count": 18,
   "id": "2ffc86bd",
   "metadata": {},
   "outputs": [
    {
     "data": {
      "text/plain": [
       "['11th',\n",
       " 'HS-grad',\n",
       " 'Assoc-acdm',\n",
       " 'Some-college',\n",
       " '10th',\n",
       " 'Prof-school',\n",
       " '7th-8th',\n",
       " 'Bachelors',\n",
       " 'Masters',\n",
       " 'Doctorate',\n",
       " '5th-6th',\n",
       " 'Assoc-voc',\n",
       " '9th',\n",
       " '12th',\n",
       " '1st-4th',\n",
       " 'Preschool']"
      ]
     },
     "execution_count": 18,
     "metadata": {},
     "output_type": "execute_result"
    }
   ],
   "source": [
    "list(df.education.unique())"
   ]
  },
  {
   "cell_type": "markdown",
   "id": "921eb861",
   "metadata": {},
   "source": [
    "### 1.  Impact of education on income"
   ]
  },
  {
   "cell_type": "code",
   "execution_count": 26,
   "id": "835e9f63",
   "metadata": {},
   "outputs": [
    {
     "data": {
      "image/png": "[encoded data removed]",
      "text/plain": [
       "<Figure size 1440x576 with 1 Axes>"
      ]
     },
     "metadata": {
      "needs_background": "light"
     },
     "output_type": "display_data"
    }
   ],
   "source": [
    "### https://stackoverflow.com/questions/69690399/how-to-add-percentages-on-countplot-in-seaborn\n",
    "def percentage_above_bar_relative_to_xgroup(ax):\n",
    "    all_heights = [[p.get_height() for p in bars] for bars in ax.containers]\n",
    "    for bars in ax.containers:\n",
    "        for i, p in enumerate(bars):\n",
    "            total = sum(xgroup[i] for xgroup in all_heights)\n",
    "            percentage = f'{(100 * p.get_height() / total) :.1f}%'\n",
    "            ax.annotate(percentage, (p.get_x() + p.get_width() / 2, p.get_height()), size=11, ha='center', va='bottom')\n",
    "\n",
    "#df = sns.load_dataset(\"titanic\")\n",
    "\n",
    "plt.figure(figsize=(20, 8))\n",
    "ax3 = sns.countplot(x=\"education\",hue=\"income\" ,order=[\"Doctorate\",\"Masters\",\"Bachelors\",\"Prof-school\",\"Some-college\",\"Assoc-acdm\",\"HS-grad\",\"12th\",\"11th\",\"10th\",\"9th\",\"7th-8th\",\"5th-6th\"],data=df1)\n",
    "ax3.set(xlabel='Class', ylabel='Count')\n",
    "\n",
    "percentage_above_bar_relative_to_xgroup(ax3)\n",
    "plt.show()"
   ]
  },
  {
   "cell_type": "markdown",
   "id": "76bcf75c",
   "metadata": {},
   "source": [
    "1. 84.1% of High School Gradutaes earn less than 50 K\n",
    "2. As the educational level increases after highschool level of education the likelihood of getting salary higher than $ 50K is much higher\n",
    "3. 72.6% of people with doctorate degree earn more than 50k"
   ]
  },
  {
   "cell_type": "markdown",
   "id": "519acd49",
   "metadata": {},
   "source": [
    "### 2. Marital Status\n"
   ]
  },
  {
   "cell_type": "code",
   "execution_count": 27,
   "id": "ad5d08ce",
   "metadata": {},
   "outputs": [
    {
     "data": {
      "image/png": "[encoded data removed]",
      "text/plain": [
       "<Figure size 1440x576 with 1 Axes>"
      ]
     },
     "metadata": {
      "needs_background": "light"
     },
     "output_type": "display_data"
    }
   ],
   "source": [
    "plt.figure(figsize=(20, 8))\n",
    "ax3 = sns.countplot(x=\"marital-status\",hue=\"income\",data=df1)\n",
    "\n",
    "percentage_above_bar_relative_to_xgroup(ax3)\n",
    "plt.show()"
   ]
  },
  {
   "cell_type": "markdown",
   "id": "dc130fe0",
   "metadata": {},
   "source": [
    "1. Married people with spouse are more likely to earn more than 50k"
   ]
  },
  {
   "cell_type": "markdown",
   "id": "d7b193f9",
   "metadata": {},
   "source": [
    "### 3. Occupation"
   ]
  },
  {
   "cell_type": "code",
   "execution_count": 37,
   "id": "ec236112",
   "metadata": {},
   "outputs": [
    {
     "data": {
      "image/png": "[encoded data removed]",
      "text/plain": [
       "<Figure size 1584x864 with 1 Axes>"
      ]
     },
     "metadata": {
      "needs_background": "light"
     },
     "output_type": "display_data"
    }
   ],
   "source": [
    "plt.figure(figsize=(22, 12))\n",
    "ax3 = sns.countplot(x=\"occupation\",hue=\"income\",data=df1)\n",
    "\n",
    "percentage_above_bar_relative_to_xgroup(ax3)\n",
    "plt.show()"
   ]
  },
  {
   "cell_type": "markdown",
   "id": "25eb000c",
   "metadata": {},
   "source": [
    " Speciality and exceutive managerial level professionals have higher probablity of earning more than 50K"
   ]
  },
  {
   "cell_type": "markdown",
   "id": "e62e9db1",
   "metadata": {},
   "source": [
    "### 4. Gender"
   ]
  },
  {
   "cell_type": "code",
   "execution_count": 38,
   "id": "5106b2af",
   "metadata": {},
   "outputs": [
    {
     "data": {
      "image/png": "[encoded data removed]",
      "text/plain": [
       "<Figure size 720x576 with 1 Axes>"
      ]
     },
     "metadata": {
      "needs_background": "light"
     },
     "output_type": "display_data"
    }
   ],
   "source": [
    "plt.figure(figsize=(10,8))\n",
    "ax3 = sns.countplot(x=\"gender\",hue=\"income\",data=df1)\n",
    "\n",
    "percentage_above_bar_relative_to_xgroup(ax3)\n",
    "plt.show()"
   ]
  },
  {
   "cell_type": "markdown",
   "id": "0d9968dd",
   "metadata": {},
   "source": [
    " Males are highly likely to get more than 50 k "
   ]
  },
  {
   "cell_type": "markdown",
   "id": "e58dcf1a",
   "metadata": {},
   "source": [
    "# Summary\n",
    "\n",
    "The key findings from the adult income data set are listed below:\n",
    "\n",
    "1. 84.1% of High School Gradutaes earn less than $50 K\n",
    "\n",
    "2. As the educational level increases after highschool level of education the likelihood of getting salary higher than $ 50K is much higher\n",
    "\n",
    "3. 72.6% of people with doctorate degree earn more than 50k\n",
    "\n",
    "4. Speciality and exceutive managerial level professionals have higher probablity of earning more than $50K\n",
    "\n",
    "5.Males are more likely to earn more than 50K. 30.4% males earn more than 50K, where as only 10.9% females earn more than 50K\n",
    "\n",
    "\n",
    "\n",
    "\n",
    "\n"
   ]
  }
 ],
 "metadata": {
  "kernelspec": {
   "display_name": "Python 3 (ipykernel)",
   "language": "python",
   "name": "python3"
  },
  "language_info": {
   "codemirror_mode": {
    "name": "ipython",
    "version": 3
   },
   "file_extension": ".py",
   "mimetype": "text/x-python",
   "name": "python",
   "nbconvert_exporter": "python",
   "pygments_lexer": "ipython3",
   "version": "3.9.12"
  }
 },
 "nbformat": 4,
 "nbformat_minor": 5
}
